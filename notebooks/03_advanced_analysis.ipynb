{
 "cells": [
  {
   "cell_type": "markdown",
   "metadata": {},
   "source": [
    "# Steps to Filter Data for Ethiopia and Merge with Brent Oil Prices\n",
    "Load and Explore Economic Indicators\n",
    "\n",
    "Start by loading and exploring the GDP Growth Rates data. We will then proceed with other indicators like Inflation Rates and Interest Rates."
   ]
  },
  {
   "cell_type": "code",
   "execution_count": 2,
   "metadata": {},
   "outputs": [
    {
     "name": "stdout",
     "output_type": "stream",
     "text": [
      "                  Country Name Country Code         Indicator Name  \\\n",
      "0                        Aruba          ABW  GDP growth (annual %)   \n",
      "1  Africa Eastern and Southern          AFE  GDP growth (annual %)   \n",
      "2                  Afghanistan          AFG  GDP growth (annual %)   \n",
      "3   Africa Western and Central          AFW  GDP growth (annual %)   \n",
      "4                       Angola          AGO  GDP growth (annual %)   \n",
      "\n",
      "      Indicator Code  1960      1961      1962      1963      1964      1965  \\\n",
      "0  NY.GDP.MKTP.KD.ZG   NaN       NaN       NaN       NaN       NaN       NaN   \n",
      "1  NY.GDP.MKTP.KD.ZG   NaN  0.460106  7.868013  5.616400  4.668135  5.138990   \n",
      "2  NY.GDP.MKTP.KD.ZG   NaN       NaN       NaN       NaN       NaN       NaN   \n",
      "3  NY.GDP.MKTP.KD.ZG   NaN  1.873455  3.707643  7.145784  5.406403  4.102491   \n",
      "4  NY.GDP.MKTP.KD.ZG   NaN       NaN       NaN       NaN       NaN       NaN   \n",
      "\n",
      "   ...      2015      2016      2017      2018      2019       2020  \\\n",
      "0  ... -0.623626  1.719625  7.048533  2.381730 -2.302836 -23.982581   \n",
      "1  ...  3.011572  2.183581  2.651400  2.681718  2.189259  -2.780379   \n",
      "2  ...  1.451315  2.260314  2.647003  1.189228  3.911603  -2.351101   \n",
      "3  ...  2.813979  0.141489  2.284961  2.842645  3.222029  -1.004417   \n",
      "4  ...  0.943572 -2.580111 -0.147150 -1.316362 -0.702273  -5.638215   \n",
      "\n",
      "        2021       2022      2023  Unnamed: 68  \n",
      "0  27.639357  10.458317       NaN          NaN  \n",
      "1   4.497380   3.554422  2.622310          NaN  \n",
      "2 -20.738839  -6.240172       NaN          NaN  \n",
      "3   3.994854   3.784486  3.342776          NaN  \n",
      "4   1.199211   3.045403  0.856001          NaN  \n",
      "\n",
      "[5 rows x 69 columns]\n",
      "                  Country Name Country Code  \\\n",
      "0                        Aruba          ABW   \n",
      "1  Africa Eastern and Southern          AFE   \n",
      "2                  Afghanistan          AFG   \n",
      "3   Africa Western and Central          AFW   \n",
      "4                       Angola          AGO   \n",
      "\n",
      "                      Indicator Name Indicator Code  1960  1961  1962  1963  \\\n",
      "0  Consumer price index (2010 = 100)    FP.CPI.TOTL   NaN   NaN   NaN   NaN   \n",
      "1  Consumer price index (2010 = 100)    FP.CPI.TOTL   NaN   NaN   NaN   NaN   \n",
      "2  Consumer price index (2010 = 100)    FP.CPI.TOTL   NaN   NaN   NaN   NaN   \n",
      "3  Consumer price index (2010 = 100)    FP.CPI.TOTL   NaN   NaN   NaN   NaN   \n",
      "4  Consumer price index (2010 = 100)    FP.CPI.TOTL   NaN   NaN   NaN   NaN   \n",
      "\n",
      "   1964  1965  ...        2015        2016        2017        2018  \\\n",
      "0   NaN   NaN  ...  103.401365  102.438495  101.385139  105.061406   \n",
      "1   NaN   NaN  ...         NaN         NaN         NaN         NaN   \n",
      "2   NaN   NaN  ...  132.883209  138.708666  145.610741  146.522482   \n",
      "3   NaN   NaN  ...         NaN         NaN         NaN         NaN   \n",
      "4   NaN   NaN  ...  159.705711  208.726444  271.019766  324.218068   \n",
      "\n",
      "         2019        2020        2021        2022        2023  Unnamed: 68  \n",
      "0  109.534355         NaN         NaN         NaN         NaN          NaN  \n",
      "1         NaN         NaN         NaN         NaN         NaN          NaN  \n",
      "2  149.895975         NaN         NaN         NaN         NaN          NaN  \n",
      "3         NaN         NaN         NaN         NaN         NaN          NaN  \n",
      "4  379.597607  464.139837  583.675779  708.321436  804.965533          NaN  \n",
      "\n",
      "[5 rows x 69 columns]\n",
      "                  Country Name Country Code          Indicator Name  \\\n",
      "0                        Aruba          ABW  Real interest rate (%)   \n",
      "1  Africa Eastern and Southern          AFE  Real interest rate (%)   \n",
      "2                  Afghanistan          AFG  Real interest rate (%)   \n",
      "3   Africa Western and Central          AFW  Real interest rate (%)   \n",
      "4                       Angola          AGO  Real interest rate (%)   \n",
      "\n",
      "  Indicator Code  1960  1961  1962  1963  1964  1965  ...       2015  \\\n",
      "0    FR.INR.RINR   NaN   NaN   NaN   NaN   NaN   NaN  ...   0.157925   \n",
      "1    FR.INR.RINR   NaN   NaN   NaN   NaN   NaN   NaN  ...        NaN   \n",
      "2    FR.INR.RINR   NaN   NaN   NaN   NaN   NaN   NaN  ...  12.252548   \n",
      "3    FR.INR.RINR   NaN   NaN   NaN   NaN   NaN   NaN  ...        NaN   \n",
      "4    FR.INR.RINR   NaN   NaN   NaN   NaN   NaN   NaN  ...  21.144182   \n",
      "\n",
      "        2016       2017      2018      2019      2020       2021      2022  \\\n",
      "0   7.982852   9.789287  2.437682 -0.371564  7.738754  11.988410  2.598476   \n",
      "1        NaN        NaN       NaN       NaN       NaN        NaN       NaN   \n",
      "2  17.583938  12.141178       NaN       NaN       NaN        NaN       NaN   \n",
      "3        NaN        NaN       NaN       NaN       NaN        NaN       NaN   \n",
      "4  -4.922063  -5.552638 -5.844003  0.090919  8.028657 -13.989372  5.634836   \n",
      "\n",
      "       2023  Unnamed: 68  \n",
      "0       NaN          NaN  \n",
      "1       NaN          NaN  \n",
      "2       NaN          NaN  \n",
      "3       NaN          NaN  \n",
      "4 -0.617857          NaN  \n",
      "\n",
      "[5 rows x 69 columns]\n"
     ]
    }
   ],
   "source": [
    "import pandas as pd\n",
    "\n",
    "# Load GDP Growth Rates\n",
    "gdp_growth = pd.read_csv('../data_collected/Economic Indicators/GDP Growth Rates/API_NY.GDP.MKTP.KD.ZG_DS2_en_csv_v2_261404.csv', skiprows=4)\n",
    "print(gdp_growth.head())\n",
    "\n",
    "# Load Inflation Rates\n",
    "inflation_rates = pd.read_csv('../data_collected/Economic Indicators/Inflation Rates/API_FP.CPI.TOTL_DS2_en_csv_v2_269369.csv', skiprows=4)\n",
    "print(inflation_rates.head())\n",
    "\n",
    "# Load Interest Rates\n",
    "interest_rates = pd.read_csv('../data_collected/Economic Indicators/Interest Rates/API_FR.INR.RINR_DS2_en_csv_v2_262777.csv', skiprows=4)\n",
    "print(interest_rates.head())"
   ]
  },
  {
   "cell_type": "markdown",
   "metadata": {},
   "source": [
    "## Preprocess the Data\n",
    "\n",
    "Clean and prepare the economic indicators data for analysis, focusing on Ethiopia."
   ]
  },
  {
   "cell_type": "code",
   "execution_count": 5,
   "metadata": {},
   "outputs": [
    {
     "ename": "FileNotFoundError",
     "evalue": "[Errno 2] No such file or directory: 'data_collected/Economic Indicators/GDP Growth Rates/API_NY.GDP.MKTP.KD.ZG_DS2_en_csv_v2_261404.csv'",
     "output_type": "error",
     "traceback": [
      "\u001b[1;31m---------------------------------------------------------------------------\u001b[0m",
      "\u001b[1;31mFileNotFoundError\u001b[0m                         Traceback (most recent call last)",
      "Cell \u001b[1;32mIn[5], line 35\u001b[0m\n\u001b[0;32m     33\u001b[0m \u001b[38;5;66;03m# Preprocess each dataset for Ethiopia\u001b[39;00m\n\u001b[0;32m     34\u001b[0m country \u001b[38;5;241m=\u001b[39m \u001b[38;5;124m'\u001b[39m\u001b[38;5;124mEthiopia\u001b[39m\u001b[38;5;124m'\u001b[39m\n\u001b[1;32m---> 35\u001b[0m gdp_growth_clean \u001b[38;5;241m=\u001b[39m \u001b[43mpreprocess_economic_data\u001b[49m\u001b[43m(\u001b[49m\u001b[43mgdp_growth_path\u001b[49m\u001b[43m,\u001b[49m\u001b[43m \u001b[49m\u001b[43mcountry\u001b[49m\u001b[43m)\u001b[49m\n\u001b[0;32m     36\u001b[0m inflation_rates_clean \u001b[38;5;241m=\u001b[39m preprocess_economic_data(inflation_rates_path, country)\n\u001b[0;32m     37\u001b[0m interest_rates_clean \u001b[38;5;241m=\u001b[39m preprocess_economic_data(interest_rates_path, country)\n",
      "Cell \u001b[1;32mIn[5], line 6\u001b[0m, in \u001b[0;36mpreprocess_economic_data\u001b[1;34m(file_path, country)\u001b[0m\n\u001b[0;32m      4\u001b[0m \u001b[38;5;28;01mdef\u001b[39;00m \u001b[38;5;21mpreprocess_economic_data\u001b[39m(file_path, country):\n\u001b[0;32m      5\u001b[0m     \u001b[38;5;66;03m# Load the dataset\u001b[39;00m\n\u001b[1;32m----> 6\u001b[0m     df \u001b[38;5;241m=\u001b[39m \u001b[43mpd\u001b[49m\u001b[38;5;241;43m.\u001b[39;49m\u001b[43mread_csv\u001b[49m\u001b[43m(\u001b[49m\u001b[43mfile_path\u001b[49m\u001b[43m,\u001b[49m\u001b[43m \u001b[49m\u001b[43mskiprows\u001b[49m\u001b[38;5;241;43m=\u001b[39;49m\u001b[38;5;241;43m4\u001b[39;49m\u001b[43m)\u001b[49m\n\u001b[0;32m      8\u001b[0m     \u001b[38;5;66;03m# Filter for the specific country\u001b[39;00m\n\u001b[0;32m      9\u001b[0m     df \u001b[38;5;241m=\u001b[39m df[df[\u001b[38;5;124m'\u001b[39m\u001b[38;5;124mCountry Name\u001b[39m\u001b[38;5;124m'\u001b[39m] \u001b[38;5;241m==\u001b[39m country]\n",
      "File \u001b[1;32md:\\brent-oil-analysis\\.venv\\Lib\\site-packages\\pandas\\io\\parsers\\readers.py:1026\u001b[0m, in \u001b[0;36mread_csv\u001b[1;34m(filepath_or_buffer, sep, delimiter, header, names, index_col, usecols, dtype, engine, converters, true_values, false_values, skipinitialspace, skiprows, skipfooter, nrows, na_values, keep_default_na, na_filter, verbose, skip_blank_lines, parse_dates, infer_datetime_format, keep_date_col, date_parser, date_format, dayfirst, cache_dates, iterator, chunksize, compression, thousands, decimal, lineterminator, quotechar, quoting, doublequote, escapechar, comment, encoding, encoding_errors, dialect, on_bad_lines, delim_whitespace, low_memory, memory_map, float_precision, storage_options, dtype_backend)\u001b[0m\n\u001b[0;32m   1013\u001b[0m kwds_defaults \u001b[38;5;241m=\u001b[39m _refine_defaults_read(\n\u001b[0;32m   1014\u001b[0m     dialect,\n\u001b[0;32m   1015\u001b[0m     delimiter,\n\u001b[1;32m   (...)\u001b[0m\n\u001b[0;32m   1022\u001b[0m     dtype_backend\u001b[38;5;241m=\u001b[39mdtype_backend,\n\u001b[0;32m   1023\u001b[0m )\n\u001b[0;32m   1024\u001b[0m kwds\u001b[38;5;241m.\u001b[39mupdate(kwds_defaults)\n\u001b[1;32m-> 1026\u001b[0m \u001b[38;5;28;01mreturn\u001b[39;00m \u001b[43m_read\u001b[49m\u001b[43m(\u001b[49m\u001b[43mfilepath_or_buffer\u001b[49m\u001b[43m,\u001b[49m\u001b[43m \u001b[49m\u001b[43mkwds\u001b[49m\u001b[43m)\u001b[49m\n",
      "File \u001b[1;32md:\\brent-oil-analysis\\.venv\\Lib\\site-packages\\pandas\\io\\parsers\\readers.py:620\u001b[0m, in \u001b[0;36m_read\u001b[1;34m(filepath_or_buffer, kwds)\u001b[0m\n\u001b[0;32m    617\u001b[0m _validate_names(kwds\u001b[38;5;241m.\u001b[39mget(\u001b[38;5;124m\"\u001b[39m\u001b[38;5;124mnames\u001b[39m\u001b[38;5;124m\"\u001b[39m, \u001b[38;5;28;01mNone\u001b[39;00m))\n\u001b[0;32m    619\u001b[0m \u001b[38;5;66;03m# Create the parser.\u001b[39;00m\n\u001b[1;32m--> 620\u001b[0m parser \u001b[38;5;241m=\u001b[39m \u001b[43mTextFileReader\u001b[49m\u001b[43m(\u001b[49m\u001b[43mfilepath_or_buffer\u001b[49m\u001b[43m,\u001b[49m\u001b[43m \u001b[49m\u001b[38;5;241;43m*\u001b[39;49m\u001b[38;5;241;43m*\u001b[39;49m\u001b[43mkwds\u001b[49m\u001b[43m)\u001b[49m\n\u001b[0;32m    622\u001b[0m \u001b[38;5;28;01mif\u001b[39;00m chunksize \u001b[38;5;129;01mor\u001b[39;00m iterator:\n\u001b[0;32m    623\u001b[0m     \u001b[38;5;28;01mreturn\u001b[39;00m parser\n",
      "File \u001b[1;32md:\\brent-oil-analysis\\.venv\\Lib\\site-packages\\pandas\\io\\parsers\\readers.py:1620\u001b[0m, in \u001b[0;36mTextFileReader.__init__\u001b[1;34m(self, f, engine, **kwds)\u001b[0m\n\u001b[0;32m   1617\u001b[0m     \u001b[38;5;28mself\u001b[39m\u001b[38;5;241m.\u001b[39moptions[\u001b[38;5;124m\"\u001b[39m\u001b[38;5;124mhas_index_names\u001b[39m\u001b[38;5;124m\"\u001b[39m] \u001b[38;5;241m=\u001b[39m kwds[\u001b[38;5;124m\"\u001b[39m\u001b[38;5;124mhas_index_names\u001b[39m\u001b[38;5;124m\"\u001b[39m]\n\u001b[0;32m   1619\u001b[0m \u001b[38;5;28mself\u001b[39m\u001b[38;5;241m.\u001b[39mhandles: IOHandles \u001b[38;5;241m|\u001b[39m \u001b[38;5;28;01mNone\u001b[39;00m \u001b[38;5;241m=\u001b[39m \u001b[38;5;28;01mNone\u001b[39;00m\n\u001b[1;32m-> 1620\u001b[0m \u001b[38;5;28mself\u001b[39m\u001b[38;5;241m.\u001b[39m_engine \u001b[38;5;241m=\u001b[39m \u001b[38;5;28;43mself\u001b[39;49m\u001b[38;5;241;43m.\u001b[39;49m\u001b[43m_make_engine\u001b[49m\u001b[43m(\u001b[49m\u001b[43mf\u001b[49m\u001b[43m,\u001b[49m\u001b[43m \u001b[49m\u001b[38;5;28;43mself\u001b[39;49m\u001b[38;5;241;43m.\u001b[39;49m\u001b[43mengine\u001b[49m\u001b[43m)\u001b[49m\n",
      "File \u001b[1;32md:\\brent-oil-analysis\\.venv\\Lib\\site-packages\\pandas\\io\\parsers\\readers.py:1880\u001b[0m, in \u001b[0;36mTextFileReader._make_engine\u001b[1;34m(self, f, engine)\u001b[0m\n\u001b[0;32m   1878\u001b[0m     \u001b[38;5;28;01mif\u001b[39;00m \u001b[38;5;124m\"\u001b[39m\u001b[38;5;124mb\u001b[39m\u001b[38;5;124m\"\u001b[39m \u001b[38;5;129;01mnot\u001b[39;00m \u001b[38;5;129;01min\u001b[39;00m mode:\n\u001b[0;32m   1879\u001b[0m         mode \u001b[38;5;241m+\u001b[39m\u001b[38;5;241m=\u001b[39m \u001b[38;5;124m\"\u001b[39m\u001b[38;5;124mb\u001b[39m\u001b[38;5;124m\"\u001b[39m\n\u001b[1;32m-> 1880\u001b[0m \u001b[38;5;28mself\u001b[39m\u001b[38;5;241m.\u001b[39mhandles \u001b[38;5;241m=\u001b[39m \u001b[43mget_handle\u001b[49m\u001b[43m(\u001b[49m\n\u001b[0;32m   1881\u001b[0m \u001b[43m    \u001b[49m\u001b[43mf\u001b[49m\u001b[43m,\u001b[49m\n\u001b[0;32m   1882\u001b[0m \u001b[43m    \u001b[49m\u001b[43mmode\u001b[49m\u001b[43m,\u001b[49m\n\u001b[0;32m   1883\u001b[0m \u001b[43m    \u001b[49m\u001b[43mencoding\u001b[49m\u001b[38;5;241;43m=\u001b[39;49m\u001b[38;5;28;43mself\u001b[39;49m\u001b[38;5;241;43m.\u001b[39;49m\u001b[43moptions\u001b[49m\u001b[38;5;241;43m.\u001b[39;49m\u001b[43mget\u001b[49m\u001b[43m(\u001b[49m\u001b[38;5;124;43m\"\u001b[39;49m\u001b[38;5;124;43mencoding\u001b[39;49m\u001b[38;5;124;43m\"\u001b[39;49m\u001b[43m,\u001b[49m\u001b[43m \u001b[49m\u001b[38;5;28;43;01mNone\u001b[39;49;00m\u001b[43m)\u001b[49m\u001b[43m,\u001b[49m\n\u001b[0;32m   1884\u001b[0m \u001b[43m    \u001b[49m\u001b[43mcompression\u001b[49m\u001b[38;5;241;43m=\u001b[39;49m\u001b[38;5;28;43mself\u001b[39;49m\u001b[38;5;241;43m.\u001b[39;49m\u001b[43moptions\u001b[49m\u001b[38;5;241;43m.\u001b[39;49m\u001b[43mget\u001b[49m\u001b[43m(\u001b[49m\u001b[38;5;124;43m\"\u001b[39;49m\u001b[38;5;124;43mcompression\u001b[39;49m\u001b[38;5;124;43m\"\u001b[39;49m\u001b[43m,\u001b[49m\u001b[43m \u001b[49m\u001b[38;5;28;43;01mNone\u001b[39;49;00m\u001b[43m)\u001b[49m\u001b[43m,\u001b[49m\n\u001b[0;32m   1885\u001b[0m \u001b[43m    \u001b[49m\u001b[43mmemory_map\u001b[49m\u001b[38;5;241;43m=\u001b[39;49m\u001b[38;5;28;43mself\u001b[39;49m\u001b[38;5;241;43m.\u001b[39;49m\u001b[43moptions\u001b[49m\u001b[38;5;241;43m.\u001b[39;49m\u001b[43mget\u001b[49m\u001b[43m(\u001b[49m\u001b[38;5;124;43m\"\u001b[39;49m\u001b[38;5;124;43mmemory_map\u001b[39;49m\u001b[38;5;124;43m\"\u001b[39;49m\u001b[43m,\u001b[49m\u001b[43m \u001b[49m\u001b[38;5;28;43;01mFalse\u001b[39;49;00m\u001b[43m)\u001b[49m\u001b[43m,\u001b[49m\n\u001b[0;32m   1886\u001b[0m \u001b[43m    \u001b[49m\u001b[43mis_text\u001b[49m\u001b[38;5;241;43m=\u001b[39;49m\u001b[43mis_text\u001b[49m\u001b[43m,\u001b[49m\n\u001b[0;32m   1887\u001b[0m \u001b[43m    \u001b[49m\u001b[43merrors\u001b[49m\u001b[38;5;241;43m=\u001b[39;49m\u001b[38;5;28;43mself\u001b[39;49m\u001b[38;5;241;43m.\u001b[39;49m\u001b[43moptions\u001b[49m\u001b[38;5;241;43m.\u001b[39;49m\u001b[43mget\u001b[49m\u001b[43m(\u001b[49m\u001b[38;5;124;43m\"\u001b[39;49m\u001b[38;5;124;43mencoding_errors\u001b[39;49m\u001b[38;5;124;43m\"\u001b[39;49m\u001b[43m,\u001b[49m\u001b[43m \u001b[49m\u001b[38;5;124;43m\"\u001b[39;49m\u001b[38;5;124;43mstrict\u001b[39;49m\u001b[38;5;124;43m\"\u001b[39;49m\u001b[43m)\u001b[49m\u001b[43m,\u001b[49m\n\u001b[0;32m   1888\u001b[0m \u001b[43m    \u001b[49m\u001b[43mstorage_options\u001b[49m\u001b[38;5;241;43m=\u001b[39;49m\u001b[38;5;28;43mself\u001b[39;49m\u001b[38;5;241;43m.\u001b[39;49m\u001b[43moptions\u001b[49m\u001b[38;5;241;43m.\u001b[39;49m\u001b[43mget\u001b[49m\u001b[43m(\u001b[49m\u001b[38;5;124;43m\"\u001b[39;49m\u001b[38;5;124;43mstorage_options\u001b[39;49m\u001b[38;5;124;43m\"\u001b[39;49m\u001b[43m,\u001b[49m\u001b[43m \u001b[49m\u001b[38;5;28;43;01mNone\u001b[39;49;00m\u001b[43m)\u001b[49m\u001b[43m,\u001b[49m\n\u001b[0;32m   1889\u001b[0m \u001b[43m\u001b[49m\u001b[43m)\u001b[49m\n\u001b[0;32m   1890\u001b[0m \u001b[38;5;28;01massert\u001b[39;00m \u001b[38;5;28mself\u001b[39m\u001b[38;5;241m.\u001b[39mhandles \u001b[38;5;129;01mis\u001b[39;00m \u001b[38;5;129;01mnot\u001b[39;00m \u001b[38;5;28;01mNone\u001b[39;00m\n\u001b[0;32m   1891\u001b[0m f \u001b[38;5;241m=\u001b[39m \u001b[38;5;28mself\u001b[39m\u001b[38;5;241m.\u001b[39mhandles\u001b[38;5;241m.\u001b[39mhandle\n",
      "File \u001b[1;32md:\\brent-oil-analysis\\.venv\\Lib\\site-packages\\pandas\\io\\common.py:873\u001b[0m, in \u001b[0;36mget_handle\u001b[1;34m(path_or_buf, mode, encoding, compression, memory_map, is_text, errors, storage_options)\u001b[0m\n\u001b[0;32m    868\u001b[0m \u001b[38;5;28;01melif\u001b[39;00m \u001b[38;5;28misinstance\u001b[39m(handle, \u001b[38;5;28mstr\u001b[39m):\n\u001b[0;32m    869\u001b[0m     \u001b[38;5;66;03m# Check whether the filename is to be opened in binary mode.\u001b[39;00m\n\u001b[0;32m    870\u001b[0m     \u001b[38;5;66;03m# Binary mode does not support 'encoding' and 'newline'.\u001b[39;00m\n\u001b[0;32m    871\u001b[0m     \u001b[38;5;28;01mif\u001b[39;00m ioargs\u001b[38;5;241m.\u001b[39mencoding \u001b[38;5;129;01mand\u001b[39;00m \u001b[38;5;124m\"\u001b[39m\u001b[38;5;124mb\u001b[39m\u001b[38;5;124m\"\u001b[39m \u001b[38;5;129;01mnot\u001b[39;00m \u001b[38;5;129;01min\u001b[39;00m ioargs\u001b[38;5;241m.\u001b[39mmode:\n\u001b[0;32m    872\u001b[0m         \u001b[38;5;66;03m# Encoding\u001b[39;00m\n\u001b[1;32m--> 873\u001b[0m         handle \u001b[38;5;241m=\u001b[39m \u001b[38;5;28;43mopen\u001b[39;49m\u001b[43m(\u001b[49m\n\u001b[0;32m    874\u001b[0m \u001b[43m            \u001b[49m\u001b[43mhandle\u001b[49m\u001b[43m,\u001b[49m\n\u001b[0;32m    875\u001b[0m \u001b[43m            \u001b[49m\u001b[43mioargs\u001b[49m\u001b[38;5;241;43m.\u001b[39;49m\u001b[43mmode\u001b[49m\u001b[43m,\u001b[49m\n\u001b[0;32m    876\u001b[0m \u001b[43m            \u001b[49m\u001b[43mencoding\u001b[49m\u001b[38;5;241;43m=\u001b[39;49m\u001b[43mioargs\u001b[49m\u001b[38;5;241;43m.\u001b[39;49m\u001b[43mencoding\u001b[49m\u001b[43m,\u001b[49m\n\u001b[0;32m    877\u001b[0m \u001b[43m            \u001b[49m\u001b[43merrors\u001b[49m\u001b[38;5;241;43m=\u001b[39;49m\u001b[43merrors\u001b[49m\u001b[43m,\u001b[49m\n\u001b[0;32m    878\u001b[0m \u001b[43m            \u001b[49m\u001b[43mnewline\u001b[49m\u001b[38;5;241;43m=\u001b[39;49m\u001b[38;5;124;43m\"\u001b[39;49m\u001b[38;5;124;43m\"\u001b[39;49m\u001b[43m,\u001b[49m\n\u001b[0;32m    879\u001b[0m \u001b[43m        \u001b[49m\u001b[43m)\u001b[49m\n\u001b[0;32m    880\u001b[0m     \u001b[38;5;28;01melse\u001b[39;00m:\n\u001b[0;32m    881\u001b[0m         \u001b[38;5;66;03m# Binary mode\u001b[39;00m\n\u001b[0;32m    882\u001b[0m         handle \u001b[38;5;241m=\u001b[39m \u001b[38;5;28mopen\u001b[39m(handle, ioargs\u001b[38;5;241m.\u001b[39mmode)\n",
      "\u001b[1;31mFileNotFoundError\u001b[0m: [Errno 2] No such file or directory: 'data_collected/Economic Indicators/GDP Growth Rates/API_NY.GDP.MKTP.KD.ZG_DS2_en_csv_v2_261404.csv'"
     ]
    }
   ],
   "source": [
    "import pandas as pd\n",
    "\n",
    "# Function to preprocess the data\n",
    "def preprocess_economic_data(file_path, country):\n",
    "    # Load the dataset\n",
    "    df = pd.read_csv(file_path, skiprows=4)\n",
    "    \n",
    "    # Filter for the specific country\n",
    "    df = df[df['Country Name'] == country]\n",
    "    \n",
    "    # Drop unnecessary columns\n",
    "    df = df.drop(columns=['Country Code', 'Indicator Name', 'Indicator Code'])\n",
    "    \n",
    "    # Remove columns with names that are not numeric (e.g., \"Unnamed: 68\")\n",
    "    df = df.loc[:, ~df.columns.str.contains('^Unnamed')]\n",
    "    \n",
    "    # Melt the dataframe\n",
    "    df = df.melt(id_vars=['Country Name'], var_name='Year', value_name='Value')\n",
    "    \n",
    "    # Convert 'Year' to numeric, forcing errors to NaN, then drop NaNs\n",
    "    df['Year'] = pd.to_numeric(df['Year'], errors='coerce')\n",
    "    df = df.dropna(subset=['Year'])\n",
    "    \n",
    "    # Pivot the dataframe\n",
    "    df = df.pivot(index='Year', columns='Country Name', values='Value')\n",
    "    return df\n",
    "\n",
    "# File paths\n",
    "gdp_growth_path = '../data_collected/Economic Indicators/GDP Growth Rates/API_NY.GDP.MKTP.KD.ZG_DS2_en_csv_v2_261404.csv'\n",
    "inflation_rates_path = '../data_collected/Economic Indicators/Inflation Rates/API_FP.CPI.TOTL_DS2_en_csv_v2_269369.csv'\n",
    "interest_rates_path = '../data_collected/Economic Indicators/Interest Rates/API_FR.INR.RINR_DS2_en_csv_v2_262777.csv'\n",
    "\n",
    "# Preprocess each dataset for Ethiopia\n",
    "country = 'Ethiopia'\n",
    "gdp_growth_clean = preprocess_economic_data(gdp_growth_path, country)\n",
    "inflation_rates_clean = preprocess_economic_data(inflation_rates_path, country)\n",
    "interest_rates_clean = preprocess_economic_data(interest_rates_path, country)\n",
    "\n",
    "# Display the cleaned data\n",
    "print(\"GDP Growth Rates (Ethiopia):\")\n",
    "print(gdp_growth_clean.head())\n",
    "\n",
    "print(\"\\nInflation Rates (Ethiopia):\")\n",
    "print(inflation_rates_clean.head())\n",
    "\n",
    "print(\"\\nInterest Rates (Ethiopia):\")\n",
    "print(interest_rates_clean.head())"
   ]
  },
  {
   "cell_type": "markdown",
   "metadata": {},
   "source": [
    "## Merge Economic Indicators with Brent Oil Prices\n",
    "\n",
    "Combine the Brent oil prices data with the cleaned economic indicators for Ethiopia."
   ]
  },
  {
   "cell_type": "code",
   "execution_count": null,
   "metadata": {},
   "outputs": [],
   "source": [
    "# Load Brent oil prices\n",
    "brent_oil_prices = pd.read_csv('data/processed/brent_oil_prices_with_features.csv', parse_dates=['Date'])\n",
    "brent_oil_prices['Year'] = brent_oil_prices['Date'].dt.year\n",
    "\n",
    "# Merge with economic indicators for Ethiopia\n",
    "merged_data = brent_oil_prices.merge(gdp_growth_clean, left_on='Year', right_index=True, how='left', suffixes=('', '_GDP'))\n",
    "merged_data = brent_oil_prices.merge(inflation_rates_clean, left_on='Year', right_index=True, how='left', suffixes=('', '_Inflation'))\n",
    "merged_data = brent_oil_prices.merge(interest_rates_clean, left_on='Year', right_index=True, how='left', suffixes=('', '_Interest'))\n",
    "\n",
    "print(merged_data.head())"
   ]
  },
  {
   "cell_type": "markdown",
   "metadata": {},
   "source": [
    "## Advanced Time Series Modeling\n",
    "\n",
    "Implement advanced time series models such as VAR, Markov-Switching ARIMA, and LSTM.\n",
    "\n",
    "### Vector Autoregression (VAR)"
   ]
  },
  {
   "cell_type": "code",
   "execution_count": null,
   "metadata": {},
   "outputs": [],
   "source": [
    "from statsmodels.tsa.api import VAR\n",
    "\n",
    "# Select relevant columns for VAR model\n",
    "var_data = merged_data[['Price', 'Ethiopia_GDP', 'Ethiopia_Inflation', 'Ethiopia_Interest']].dropna()\n",
    "\n",
    "# Fit VAR model\n",
    "model = VAR(var_data)\n",
    "var_results = model.fit(maxlags=15, ic='aic')\n",
    "print(var_results.summary())"
   ]
  },
  {
   "cell_type": "markdown",
   "metadata": {},
   "source": [
    "### Markov-Switching ARIMA"
   ]
  },
  {
   "cell_type": "code",
   "execution_count": null,
   "metadata": {},
   "outputs": [],
   "source": [
    "from statsmodels.tsa.regime_switching.markov_regression import MarkovRegression\n",
    "\n",
    "# Fit Markov-Switching ARIMA model\n",
    "markov_model = MarkovRegression(merged_data['Price'], k_regimes=2, trend='c', switching_variance=True)\n",
    "markov_results = markov_model.fit()\n",
    "print(markov_results.summary())"
   ]
  },
  {
   "cell_type": "markdown",
   "metadata": {},
   "source": [
    "## LSTM (Long Short-Term Memory)"
   ]
  },
  {
   "cell_type": "code",
   "execution_count": null,
   "metadata": {},
   "outputs": [],
   "source": [
    "import numpy as np\n",
    "from keras.models import Sequential\n",
    "from keras.layers import LSTM, Dense\n",
    "\n",
    "# Prepare data for LSTM\n",
    "def create_lstm_data(df, look_back=1):\n",
    "    dataX, dataY = [], []\n",
    "    for i in range(len(df)-look_back):\n",
    "        a = df[i:(i+look_back), 0]\n",
    "        dataX.append(a)\n",
    "        dataY.append(df[i + look_back, 0])\n",
    "    return np.array(dataX), np.array(dataY)\n",
    "\n",
    "# Normalize the data\n",
    "from sklearn.preprocessing import MinMaxScaler\n",
    "scaler = MinMaxScaler(feature_range=(0, 1))\n",
    "scaled_data = scaler.fit_transform(merged_data[['Price']].values)\n",
    "\n",
    "# Create LSTM data\n",
    "look_back = 3\n",
    "trainX, trainY = create_lstm_data(scaled_data, look_back)\n",
    "\n",
    "# Reshape input to be [samples, time steps, features]\n",
    "trainX = np.reshape(trainX, (trainX.shape[0], trainX.shape[1], 1))\n",
    "\n",
    "# Build LSTM model\n",
    "model = Sequential()\n",
    "model.add(LSTM(50, input_shape=(look_back, 1)))\n",
    "model.add(Dense(1))\n",
    "model.compile(loss='mean_squared_error', optimizer='adam')\n",
    "\n",
    "# Fit the model\n",
    "model.fit(trainX, trainY, epochs=20, batch_size=1, verbose=2)\n",
    "\n",
    "# Make predictions\n",
    "trainPredict = model.predict(trainX)\n",
    "\n",
    "# Inverse transform predictions\n",
    "trainPredict = scaler.inverse_transform(trainPredict)\n",
    "trainY = scaler.inverse_transform([trainY])\n",
    "\n",
    "# Evaluate the model\n",
    "from sklearn.metrics import mean_squared_error\n",
    "trainScore = mean_squared_error(trainY[0], trainPredict[:,0])\n",
    "print('Train Score: %.2f RMSE' % (trainScore ** 0.5))"
   ]
  }
 ],
 "metadata": {
  "kernelspec": {
   "display_name": ".venv",
   "language": "python",
   "name": "python3"
  },
  "language_info": {
   "codemirror_mode": {
    "name": "ipython",
    "version": 3
   },
   "file_extension": ".py",
   "mimetype": "text/x-python",
   "name": "python",
   "nbconvert_exporter": "python",
   "pygments_lexer": "ipython3",
   "version": "3.12.2"
  }
 },
 "nbformat": 4,
 "nbformat_minor": 2
}
